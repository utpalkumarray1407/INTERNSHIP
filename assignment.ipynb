{
 "cells": [
  {
   "cell_type": "markdown",
   "id": "87925abd",
   "metadata": {},
   "source": [
    "(Question 1) -Write a Python program to replace all occurrences of a space, comma, or dot with a colon.\n",
    "\n",
    "Sample Text-'Python Exercises, PHP exercises.'\n",
    "\n",
    "Expected Output:Python:Exercises::PHP:exercises:\n"
   ]
  },
  {
   "cell_type": "code",
   "execution_count": 1,
   "id": "c026bed4",
   "metadata": {},
   "outputs": [
    {
     "name": "stdout",
     "output_type": "stream",
     "text": [
      "Python:Exercises::PHP:exercises:\n"
     ]
    }
   ],
   "source": [
    "import re\n",
    "text = 'Python Exercises, PHP exercises.'\n",
    "print(re.sub(\"[ , .]\", \":\", text))"
   ]
  },
  {
   "cell_type": "markdown",
   "id": "dac2afe2",
   "metadata": {},
   "source": [
    "(Question 2) -Create a dataframe using the dictionary below and remove everything (commas (,), !, XXXX, ;, etc.) from the columns except words.\n",
    "\n",
    "Dictionary-{'SUMMARY' : ['hello, world!', 'XXXXX test', '123four, five:; six...']}\n",
    "\n",
    "Expected output-\n",
    "\n",
    "0      hello world\n",
    "\n",
    "1             test\n",
    "\n",
    "2    four five six\n"
   ]
  },
  {
   "cell_type": "code",
   "execution_count": 2,
   "id": "f8366a2c",
   "metadata": {},
   "outputs": [],
   "source": [
    "#import the pandas libraray\n",
    "import pandas as pd"
   ]
  },
  {
   "cell_type": "code",
   "execution_count": 3,
   "id": "3f87f9e7",
   "metadata": {},
   "outputs": [],
   "source": [
    "#create the dictionary as data\n",
    "data = {'SUMMARY': ['hello world!', 'XXXXX test', '123four, five:; six...']}"
   ]
  },
  {
   "cell_type": "code",
   "execution_count": 4,
   "id": "af4d946b",
   "metadata": {},
   "outputs": [],
   "source": [
    "#create the dataframe\n",
    "df = pd.DataFrame(data)"
   ]
  },
  {
   "cell_type": "code",
   "execution_count": 5,
   "id": "8b26a036",
   "metadata": {},
   "outputs": [],
   "source": [
    "#remove everything except words from the column\n",
    "df['SUMMARY'] = df['SUMMARY'].str.replace('[^a-zA-Z\\s]', '', regex=True)"
   ]
  },
  {
   "cell_type": "code",
   "execution_count": 6,
   "id": "1aa8f041",
   "metadata": {},
   "outputs": [
    {
     "name": "stdout",
     "output_type": "stream",
     "text": [
      "         SUMMARY\n",
      "0    hello world\n",
      "1     XXXXX test\n",
      "2  four five six\n"
     ]
    }
   ],
   "source": [
    "#print output\n",
    "print(df)"
   ]
  },
  {
   "cell_type": "markdown",
   "id": "5e99019b",
   "metadata": {},
   "source": [
    "(Question 3) - Create a function inpython to find all words that are at least 4 characters long in a string.The use of the re.compile() method is mandatory."
   ]
  },
  {
   "cell_type": "code",
   "execution_count": 7,
   "id": "84902b6e",
   "metadata": {},
   "outputs": [
    {
     "name": "stdout",
     "output_type": "stream",
     "text": [
      "<class 're.Pattern'> \n",
      "\n",
      "['Ramesh', 'very', 'clever', 'honest']\n"
     ]
    }
   ],
   "source": [
    "import re\n",
    "\n",
    "str1 = \"Ramesh was very clever and honest man.\"\n",
    "\n",
    "#pattern to find four characters words\n",
    "string_pattern = r\"\\b\\w{4,}\\b\"\n",
    "\n",
    "#compile string pattern to re.pattern object\n",
    "regex_pattern = re.compile(string_pattern)\n",
    "\n",
    "#print the type of compile pattern\n",
    "print(type(regex_pattern), \"\\n\")\n",
    "\n",
    "#find all the matches in string one\n",
    "result = regex_pattern.findall(str1)\n",
    "print(result)"
   ]
  },
  {
   "cell_type": "markdown",
   "id": "d2a2df22",
   "metadata": {},
   "source": [
    "(Question 4) -Create a function in python to find all three, four, and five character words in a string. The use of the re.compile() method is mandatory."
   ]
  },
  {
   "cell_type": "code",
   "execution_count": 8,
   "id": "fd9757fa",
   "metadata": {},
   "outputs": [
    {
     "name": "stdout",
     "output_type": "stream",
     "text": [
      "['This', 'and', 'not', 'for', 'sale']\n"
     ]
    }
   ],
   "source": [
    "import re\n",
    "\n",
    "def match_words(string):\n",
    "    \n",
    "    #pattern to find three, four and five character words:\n",
    "    string_pattern = r'\\b\\w{3,5}\\b'\n",
    "    #compile string pattern to re.pattern object:\n",
    "    pattern = re.compile(string_pattern)\n",
    "    \n",
    "    output = pattern.findall(string)\n",
    "    return output\n",
    "\n",
    "str1 = \"This is a sample medicine and not for sale. \"\n",
    "\n",
    "result = match_words(str1)\n",
    "print(result)\n"
   ]
  },
  {
   "cell_type": "markdown",
   "id": "6af6fc60",
   "metadata": {},
   "source": [
    "(Question 5) - Create a function in Python to remove the parenthesis in a list of strings.The use of the re.compile() method is mandatory.\n",
    "\n",
    "Sample Text:[\"example (.com)\", \"hr@fliprobo (.com)\", \"github (.com)\", \"Hello (Data Science World)\", \"Data (Scientist)\"]\n",
    "\n",
    "Expected Output:\n",
    "\n",
    "example.com\n",
    "\n",
    "hr@fliprobo.com\n",
    "\n",
    "github.com\n",
    "\n",
    "Hello Data Science World\n",
    "\n",
    "Data Scientist\n",
    "\n"
   ]
  },
  {
   "cell_type": "code",
   "execution_count": null,
   "id": "17befabe",
   "metadata": {},
   "outputs": [],
   "source": []
  },
  {
   "cell_type": "markdown",
   "id": "715d66a7",
   "metadata": {},
   "source": [
    "Question 6- Write a python program to remove the parenthesis area from the text stored in the text file using Regular Expression.\n",
    "\n",
    "Sample Text:[\"example (.com)\", \"hr@fliprobo (.com)\", \"github (.com)\", \"Hello (Data Science World)\", \"Data (Scientist)\"]\n",
    "\n",
    "Expected Output:[\"example\", \"hr@fliprobo\", \"github\", \"Hello\", \"Data\"]\n",
    "\n",
    "Note- Store given sample text in the text file and then to remove the parenthesis area from the text.\n"
   ]
  },
  {
   "cell_type": "code",
   "execution_count": null,
   "id": "82879bea",
   "metadata": {},
   "outputs": [],
   "source": []
  },
  {
   "cell_type": "markdown",
   "id": "9215642c",
   "metadata": {},
   "source": [
    "(Question 7) -Write a regular expression in Python to split a string into uppercase letters.\n",
    "\n",
    "Sample text: “ImportanceOfRegularExpressionsInPython”\n",
    "\n",
    "Expected Output:[‘Importance’, ‘Of’, ‘Regular’, ‘Expression’, ‘In’, ‘Python’]\n"
   ]
  },
  {
   "cell_type": "code",
   "execution_count": 9,
   "id": "e24928a1",
   "metadata": {},
   "outputs": [
    {
     "name": "stdout",
     "output_type": "stream",
     "text": [
      "['Importance', 'Of', 'Regular', 'Expressions', 'In', 'Python']\n"
     ]
    }
   ],
   "source": [
    "import re\n",
    "text = \"ImportanceOfRegularExpressionsInPython\"\n",
    "print(re.findall('[A-Z][^A-Z]*', text))"
   ]
  },
  {
   "cell_type": "markdown",
   "id": "fe796215",
   "metadata": {},
   "source": [
    "(Question 8) - Create a function in python to insert spaces between words starting with numbers.\n",
    "\n",
    "Sample Text: “RegularExpression1IsAn2ImportantTopic3InPython\"\n",
    "\n",
    "Expected Output: RegularExpression 1IsAn 2ImportantTopic 3InPython\n"
   ]
  },
  {
   "cell_type": "code",
   "execution_count": 10,
   "id": "a25206d3",
   "metadata": {},
   "outputs": [
    {
     "name": "stdout",
     "output_type": "stream",
     "text": [
      "RegularExpression 1IsAn 2ImportantTopic 3InPython\n"
     ]
    }
   ],
   "source": [
    "import re\n",
    "\n",
    "def regex_pattern(text):\n",
    "   # words start with numbers\n",
    "    string_pattern = r'(\\d+)([A-Za-z]+)'\n",
    "    \n",
    "    output = re.sub(string_pattern, r' \\1\\2', text)\n",
    "    return output\n",
    "\n",
    "sample_text = \"RegularExpression1IsAn2ImportantTopic3InPython\"\n",
    "result = regex_pattern(sample_text)\n",
    "print(result)"
   ]
  },
  {
   "cell_type": "markdown",
   "id": "72015312",
   "metadata": {},
   "source": [
    "(Question 9)- Create a function in python to insert spaces between words starting with capital letters or with numbers.\n",
    "\n",
    "Sample Text: “RegularExpression1IsAn2ImportantTopic3InPython\"\n",
    "\n",
    "Expected Output:RegularExpression 1 IsAn 2 ImportantTopic 3 InPython\n"
   ]
  },
  {
   "cell_type": "code",
   "execution_count": 11,
   "id": "07979a5f",
   "metadata": {},
   "outputs": [
    {
     "name": "stdout",
     "output_type": "stream",
     "text": [
      "RegularExpression 1 IsAn  2 ImportantTopic  3 InPython \n"
     ]
    }
   ],
   "source": [
    "import re\n",
    "\n",
    "def string_pattern(text):\n",
    "    #words start with capital letters or with numbers\n",
    "    pattern = r'(\\d+)([A-Za-z]+)'\n",
    "    \n",
    "    output = re.sub(pattern, r' \\1 \\2 ', text)\n",
    "    return output\n",
    "\n",
    "sample_text = \"RegularExpression1IsAn2ImportantTopic3InPython\"\n",
    "result = string_pattern(sample_text)\n",
    "print(result)"
   ]
  },
  {
   "cell_type": "markdown",
   "id": "7263e73f",
   "metadata": {},
   "source": [
    "(Question 10) -Use the github link below to read the data and create a dataframe. After creating the dataframe extract the first 6 letters of each country and store in the dataframe under a new column called first_five_letters.\n",
    "\n",
    "Github Link- https://raw.githubusercontent.com/dsrscientist/DSData/master/happiness_score_dataset.csv\n"
   ]
  },
  {
   "cell_type": "code",
   "execution_count": null,
   "id": "782ded78",
   "metadata": {},
   "outputs": [],
   "source": []
  },
  {
   "cell_type": "markdown",
   "id": "93000372",
   "metadata": {},
   "source": [
    "(Question 11)- Write a Python program to match a string that contains only upper and lowercase letters, numbers, and underscores."
   ]
  },
  {
   "cell_type": "code",
   "execution_count": 12,
   "id": "8265337e",
   "metadata": {},
   "outputs": [
    {
     "name": "stdout",
     "output_type": "stream",
     "text": [
      " mis match!\n",
      "match!\n"
     ]
    }
   ],
   "source": [
    "import re\n",
    "\n",
    "def string_pattern(text):\n",
    "    pattern = '^[a-zA-Z0-9_]*$'\n",
    "    \n",
    "    if  re.search(pattern, text):\n",
    "        return 'match!'\n",
    "    else:\n",
    "        return (' mis match!')\n",
    "    \n",
    "print(string_pattern(\"The swan swim easily in river.\"))\n",
    "print(string_pattern(\"Ram_Earns_400\"))"
   ]
  },
  {
   "cell_type": "markdown",
   "id": "d6ca13b2",
   "metadata": {},
   "source": [
    "(Question 12)- Write a Python program where a string will start with a specific number."
   ]
  },
  {
   "cell_type": "code",
   "execution_count": 13,
   "id": "baa29e81",
   "metadata": {},
   "outputs": [
    {
     "name": "stdout",
     "output_type": "stream",
     "text": [
      "True\n",
      "False\n"
     ]
    }
   ],
   "source": [
    "import re\n",
    "\n",
    "def match_number(string):\n",
    "    \n",
    "    text = re.compile(r\"^7\")\n",
    "    \n",
    "    if text.match(string):\n",
    "        return True\n",
    "    else:\n",
    "        return False\n",
    "print(match_number('7-123456789'))\n",
    "print(match_number('6-234585251'))"
   ]
  },
  {
   "cell_type": "markdown",
   "id": "43cb192f",
   "metadata": {},
   "source": [
    "(Question 13)- Write a Python program to remove leading zeros from an IP address"
   ]
  },
  {
   "cell_type": "code",
   "execution_count": 14,
   "id": "106753bd",
   "metadata": {},
   "outputs": [
    {
     "name": "stdout",
     "output_type": "stream",
     "text": [
      "247.3.53.541\n"
     ]
    }
   ],
   "source": [
    "import re\n",
    "\n",
    "ip = \"247.03.053.541\"\n",
    "\n",
    "#pattern to remove leading zeros\n",
    "string_pattern = '\\.[0]*'\n",
    "\n",
    "result = re.sub(string_pattern,'.', ip)\n",
    "print(result)"
   ]
  },
  {
   "cell_type": "markdown",
   "id": "44e70547",
   "metadata": {},
   "source": [
    "(Question 14)- Write a regular expression in python to match a date string in the form of Month name followed by day number and year stored in a text file.\n",
    "\n",
    "Sample text :  'On August 15th 1947 that India was declared independent from British colonialism, and the reins of control were handed over to the leaders of the Country’.\n",
    "\n",
    "Expected Output-August 15th 1947\n",
    "Note- Store given sample text in the text file and then extract the date string asked format.\n"
   ]
  },
  {
   "cell_type": "code",
   "execution_count": 15,
   "id": "7d025311",
   "metadata": {},
   "outputs": [
    {
     "name": "stdout",
     "output_type": "stream",
     "text": [
      "[('August', 'th')]\n"
     ]
    }
   ],
   "source": [
    "import re\n",
    "\n",
    "text = \"On August 15th 1947 that India was declared independent from British colonialism, and the reins of control were handed over to the leaders of the Country.\"\n",
    "\n",
    "regex_pattern = r\"\\b([A-Z][a-z]+) \\d{2}(st|nd|rd|th) \\d{4}\\b\"\n",
    "\n",
    "result = re.findall(regex_pattern, text)\n",
    "print(result)"
   ]
  },
  {
   "cell_type": "markdown",
   "id": "f256b889",
   "metadata": {},
   "source": [
    "(Question 15) - Write a Python program to search some literals strings in a string. \n",
    "\n",
    "Sample text : 'The quick brown fox jumps over the lazy dog.'\n",
    "\n",
    "Searched words : 'fox', 'dog', 'horse'\n"
   ]
  },
  {
   "cell_type": "code",
   "execution_count": 16,
   "id": "ef94bede",
   "metadata": {},
   "outputs": [
    {
     "name": "stdout",
     "output_type": "stream",
     "text": [
      "searching for \"fox\" in \"The quick brown fox jumps over the lazy dog.\" ->\n",
      "match!\n",
      "searching for \"dog\" in \"The quick brown fox jumps over the lazy dog.\" ->\n",
      "match!\n",
      "searching for \"horse\" in \"The quick brown fox jumps over the lazy dog.\" ->\n",
      "mismatch!\n"
     ]
    }
   ],
   "source": [
    "import re\n",
    "\n",
    "words = [ 'fox', 'dog', 'horse']\n",
    "\n",
    "text = 'The quick brown fox jumps over the lazy dog.'\n",
    "\n",
    "for word in words:\n",
    "    print('searching for \"%s\" in \"%s\" ->' % (word, text),)\n",
    "    if re.search(word,text):\n",
    "        print('match!')\n",
    "    else:\n",
    "        print('mismatch!')\n",
    "    "
   ]
  },
  {
   "cell_type": "markdown",
   "id": "5f13edb7",
   "metadata": {},
   "source": [
    "(Question 16)- Write a Python program to search a literals string in a string and also find the location within the original string where the pattern occurs\n",
    "\n",
    "Sample text : 'The quick brown fox jumps over the lazy dog.'\n",
    "\n",
    "Searched words : 'fox'\n"
   ]
  },
  {
   "cell_type": "code",
   "execution_count": 17,
   "id": "184927b4",
   "metadata": {},
   "outputs": [
    {
     "name": "stdout",
     "output_type": "stream",
     "text": [
      "Found \"fox\" in \"The quick brown fox jumps over the lazy dog.\" from 16 to 19 \n"
     ]
    }
   ],
   "source": [
    "import re\n",
    "\n",
    "string_pattern = 'fox'\n",
    "\n",
    "text = 'The quick brown fox jumps over the lazy dog.'\n",
    "\n",
    "match = re.search(string_pattern, text)\n",
    "s = match.start()\n",
    "e = match.end()\n",
    "print('Found \"%s\" in \"%s\" from %d to %d ' % \\\n",
    "     (match.re.pattern, match.string, s, e))\n"
   ]
  },
  {
   "cell_type": "markdown",
   "id": "c0a2d58b",
   "metadata": {},
   "source": [
    "(Question 17) - Write a Python program to find the substrings within a string.\n",
    "\n",
    "Sample text : 'Python exercises, PHP exercises, C# exercises'\n",
    "\n",
    "Pattern : 'exercises'.\n"
   ]
  },
  {
   "cell_type": "code",
   "execution_count": 18,
   "id": "4b125b98",
   "metadata": {},
   "outputs": [
    {
     "name": "stdout",
     "output_type": "stream",
     "text": [
      "Found \"exercises\"\n",
      "Found \"exercises\"\n",
      "Found \"exercises\"\n"
     ]
    }
   ],
   "source": [
    "import re\n",
    "\n",
    "text = 'Python exercises, PHP exercises, C# exercises'\n",
    "\n",
    "string_pattern = 'exercises'\n",
    "\n",
    "for match in re.findall(string_pattern, text):\n",
    "    print('Found \"%s\"' % match)"
   ]
  },
  {
   "cell_type": "markdown",
   "id": "109c16df",
   "metadata": {},
   "source": [
    "(Question 18)- Write a Python program to find the occurrence and position of the substrings within a string."
   ]
  },
  {
   "cell_type": "code",
   "execution_count": 19,
   "id": "810c7ab8",
   "metadata": {},
   "outputs": [
    {
     "name": "stdout",
     "output_type": "stream",
     "text": [
      "Found \"exercises\" at 7:16\n",
      "Found \"exercises\" at 22:31\n",
      "Found \"exercises\" at 36:45\n"
     ]
    }
   ],
   "source": [
    "import re\n",
    "\n",
    "text = 'Python exercises, PHP exercises, c# exercises'\n",
    "pattern = 'exercises'\n",
    "\n",
    "for match in re.finditer(pattern, text):\n",
    "    s = match.start()\n",
    "    e = match.end()\n",
    "    print('Found \"%s\" at %d:%d' % (text[s:e], s, e))\n",
    "    "
   ]
  },
  {
   "cell_type": "markdown",
   "id": "d17bad55",
   "metadata": {},
   "source": [
    "(Question 19) - Write a Python program to convert a date of yyyy-mm-dd format to dd-mm-yyyy format."
   ]
  },
  {
   "cell_type": "code",
   "execution_count": 20,
   "id": "4a11a204",
   "metadata": {},
   "outputs": [
    {
     "name": "stdout",
     "output_type": "stream",
     "text": [
      "original date in YYYY-MM-DD Format:  2000-07-14\n",
      "New date in DD-MM-YYYY Format:  14-07-2000\n"
     ]
    }
   ],
   "source": [
    "import re\n",
    "\n",
    "def convert_date_format(dt):\n",
    "    \n",
    "    return re.sub(r'(\\d{4})-(\\d{1,2})-(\\d{1,2})', '\\\\3-\\\\2-\\\\1', dt)\n",
    "\n",
    "dt1 = \"2000-07-14\"\n",
    "print(\"original date in YYYY-MM-DD Format: \",dt1)\n",
    "print(\"New date in DD-MM-YYYY Format: \",convert_date_format(dt1))"
   ]
  },
  {
   "cell_type": "markdown",
   "id": "9489192b",
   "metadata": {},
   "source": [
    "(Question 20) - Create a function in python to find all decimal numbers with a precision of 1 or 2 in a string.The use of the re.compile() method is mandatory.\n",
    "\n",
    "Sample Text:\"01.12 0132.123 2.31875 145.8 3.01 27.25 0.25\"\n",
    "\n",
    "Expected Output:['01.12', '145.8', '3.01', '27.25', '0.25']\n"
   ]
  },
  {
   "cell_type": "code",
   "execution_count": 21,
   "id": "30f240d3",
   "metadata": {},
   "outputs": [
    {
     "name": "stdout",
     "output_type": "stream",
     "text": [
      "['01.12', '0132.12', '2.31', '145.8', '3.01', '27.25', '0.25']\n"
     ]
    }
   ],
   "source": [
    "import re\n",
    "\n",
    "def find_decimal_numbers(string):\n",
    "    \n",
    "   #string to find decimal numbers:\n",
    "    string_pattern = r'\\d+\\.\\d{1,2}'\n",
    "    \n",
    "    # compile string to re.pattern object\n",
    "    pattern = re.compile(string_pattern)\n",
    "    \n",
    "    decimal_numbers = re.findall(pattern, string)\n",
    "    return decimal_numbers\n",
    "\n",
    "sample_text = \"01.12 0132.123 2.31875 145.8 3.01 27.25 0.25\"\n",
    "result = find_decimal_numbers(sample_text)\n",
    "print(result)"
   ]
  },
  {
   "cell_type": "markdown",
   "id": "a518ebba",
   "metadata": {},
   "source": [
    "(Question 21) - Write a Python program to separate and print the numbers and their position of a given string."
   ]
  },
  {
   "cell_type": "code",
   "execution_count": 22,
   "id": "74317f94",
   "metadata": {},
   "outputs": [
    {
     "name": "stdout",
     "output_type": "stream",
     "text": [
      "15\n",
      "Index position: 52\n"
     ]
    }
   ],
   "source": [
    "import re\n",
    "\n",
    "#Feed.\n",
    "text = \"The example creates an Arraylist with a capacity of 15 elements. Ten elements are then added to the Arraylist and the Arraylist is trimmed accordingly.\"\n",
    "\n",
    "for u in re.finditer(\"\\d+\", text):\n",
    "    print(u.group(0))\n",
    "    print(\"Index position:\", u.start())"
   ]
  },
  {
   "cell_type": "markdown",
   "id": "27dbc9f9",
   "metadata": {},
   "source": [
    "(Question 22) - Write a regular expression in python program to extract maximum/largest numeric value from a string.\n",
    "\n",
    "Sample Text: 'My marks in each semester are: 947, 896, 926, 524, 734, 950, 642'\n",
    "\n",
    "Expected Output: 950\n"
   ]
  },
  {
   "cell_type": "code",
   "execution_count": 23,
   "id": "0b4dad19",
   "metadata": {},
   "outputs": [
    {
     "name": "stdout",
     "output_type": "stream",
     "text": [
      "950\n"
     ]
    }
   ],
   "source": [
    "import re\n",
    "\n",
    "insert_string = 'My marks in each semester are: 947, 896, 926, 524, 734, 950, 642'\n",
    "\n",
    "#string to find max/large numeric value\n",
    "pattern = r'\\d+'\n",
    "numeric_value = re.findall(pattern, insert_string)\n",
    "\n",
    "max_value = max(numeric_value)\n",
    "print(max_value)\n"
   ]
  },
  {
   "cell_type": "markdown",
   "id": "bdcf13a4",
   "metadata": {},
   "source": [
    "(Question 23) - Create a function in python to insert spaces between words starting with capital letters.\n",
    "\n",
    "Sample Text: “RegularExpressionIsAnImportantTopicInPython\"\n",
    "\n",
    "Expected Output:Regular Expression Is An Important Topic In Python\n"
   ]
  },
  {
   "cell_type": "code",
   "execution_count": 24,
   "id": "0058c3fa",
   "metadata": {},
   "outputs": [
    {
     "name": "stdout",
     "output_type": "stream",
     "text": [
      " Regular Expression Is An Important Topic In Python\n"
     ]
    }
   ],
   "source": [
    "import re\n",
    "\n",
    "def insert_spaces(text):\n",
    "    \n",
    "    #string to words start with capital letter\n",
    "    string_pattern = r'([A-Z][a-z]+)'\n",
    "    \n",
    "    output = re.sub(string_pattern, r' \\1', text)\n",
    "    return output\n",
    "\n",
    "sample_text = \"RegularExpressionIsAnImportantTopicInPython\"\n",
    "result = insert_spaces(sample_text)\n",
    "print(result)"
   ]
  },
  {
   "cell_type": "markdown",
   "id": "d726bb4d",
   "metadata": {},
   "source": [
    "(Question 24) -Python regex to find sequences of one upper case letter followed by lower case letters"
   ]
  },
  {
   "cell_type": "code",
   "execution_count": 25,
   "id": "ee8ce038",
   "metadata": {},
   "outputs": [
    {
     "name": "stdout",
     "output_type": "stream",
     "text": [
      "match!\n",
      "match!\n",
      "mismatch!\n",
      "mismatch!\n",
      "match!\n"
     ]
    }
   ],
   "source": [
    "import re\n",
    "\n",
    "def word_match(text):\n",
    "    \n",
    "    #string to find upper and lower case letter\n",
    "    pattern = '[A-Z]+[a-z]+$'\n",
    "    \n",
    "    if re.search(pattern, text):\n",
    "        return 'match!'\n",
    "    else:\n",
    "        return 'mismatch!'\n",
    "\n",
    "print(word_match(\"UtPaLrAy\"))\n",
    "print(word_match(\"Kumar\"))\n",
    "print(word_match(\"utpal\"))\n",
    "print(word_match(\"RAY\"))\n",
    "print(word_match(\"Utpal\"))"
   ]
  },
  {
   "cell_type": "markdown",
   "id": "b5eb8344",
   "metadata": {},
   "source": [
    "(Question 25) -Write a Python program to remove continuous duplicate words from Sentence using Regular Expression.\n",
    "\n",
    "Sample Text:\"Hello hello world world\"\n",
    "\n",
    "Expected Output: Hello hello world\n"
   ]
  },
  {
   "cell_type": "code",
   "execution_count": 26,
   "id": "60d844ca",
   "metadata": {},
   "outputs": [
    {
     "name": "stdout",
     "output_type": "stream",
     "text": [
      "Hello hello world\n"
     ]
    }
   ],
   "source": [
    "import re\n",
    "\n",
    "def delete_duplicates(word):\n",
    "    \n",
    "    #string pattern to remove duplicate words\n",
    "    string_pattern = r'\\b(\\w+)(\\s+\\1\\b)+'\n",
    "    \n",
    "    output = re.sub(string_pattern, r'\\1', word)\n",
    "    return output\n",
    "\n",
    "sample_text = \"Hello hello world world\"\n",
    "result = delete_duplicates(sample_text)\n",
    "print(result)\n",
    "    "
   ]
  },
  {
   "cell_type": "markdown",
   "id": "9a1e8b6f",
   "metadata": {},
   "source": [
    "(Question 26)- Write a python program using RegEx to accept string ending with alphanumeric character."
   ]
  },
  {
   "cell_type": "code",
   "execution_count": null,
   "id": "b614be38",
   "metadata": {},
   "outputs": [],
   "source": []
  },
  {
   "cell_type": "markdown",
   "id": "2db14229",
   "metadata": {},
   "source": [
    "(Question 27) -Write a python program using RegEx to extract the hashtags.\n",
    "\n",
    "Sample Text: \"\"\"RT @kapil_kausik: #Doltiwal I mean #xyzabc is \"hurt\" by #Demonetization as the same has rendered USELESS <ed><U+00A0><U+00BD><ed><U+00B1><U+0089> \"acquired funds\" No wo\"\"\"\n",
    "\n",
    "Expected Output:['#Doltiwal', '#xyzabc', '#Demonetization']\n"
   ]
  },
  {
   "cell_type": "code",
   "execution_count": 27,
   "id": "5a2c2481",
   "metadata": {},
   "outputs": [
    {
     "name": "stdout",
     "output_type": "stream",
     "text": [
      "['#Doltiwal', '#xyzabc', '#Demonetization']\n"
     ]
    }
   ],
   "source": [
    "import re\n",
    "\n",
    "text = \"\"\"RT @kapil_kausik: #Doltiwal I mean #xyzabc is \"hurt\" by #Demonetization as the same has rendered USELESS <ed><U+00A0><U+00BD><ed><U+00B1><U+0089> \"acquired funds\" No wo\"\"\"\n",
    "\n",
    "#string to extract hashtag\n",
    "string_pattern = r'#\\w+'\n",
    "\n",
    "result = re.findall(string_pattern, text)\n",
    "print(result)"
   ]
  },
  {
   "cell_type": "markdown",
   "id": "2921387f",
   "metadata": {},
   "source": [
    "(Question 28) - Write a python program using RegEx to remove <U+..> like symbols\n",
    "Check the below sample text, there are strange symbols something of the sort <U+..> all over the place. You need to come up with a general Regex expression that will cover all such symbols.\n",
    "\n",
    "Sample Text: \"@Jags123456 Bharat band on 28??<ed><U+00A0><U+00BD><ed><U+00B8><U+0082>Those who  are protesting #demonetization  are all different party leaders\"\n",
    "\n",
    "Expected Output:@Jags123456 Bharat band on 28??<ed><ed>Those who  are protesting #demonetization  are all different party leaders\n"
   ]
  },
  {
   "cell_type": "code",
   "execution_count": 28,
   "id": "f0f5d258",
   "metadata": {},
   "outputs": [
    {
     "name": "stdout",
     "output_type": "stream",
     "text": [
      "@Jags123456 Bharat band on 28??<ed><ed>Those who  are protesting #demonetization  are all different party leaders\n"
     ]
    }
   ],
   "source": [
    "import re\n",
    "\n",
    "insert_text = \"@Jags123456 Bharat band on 28??<ed><U+00A0><U+00BD><ed><U+00B8><U+0082>Those who  are protesting #demonetization  are all different party leaders\"\n",
    "\n",
    "string_pattern = r\"<U\\+\\w{4}>\"\n",
    "\n",
    "result = re.sub(string_pattern, \"\", insert_text)\n",
    "print(result)"
   ]
  },
  {
   "cell_type": "markdown",
   "id": "a2b500c5",
   "metadata": {},
   "source": [
    "(Question 29) - Write a python program to extract dates from the text stored in the text file.\n",
    "\n",
    "Sample Text:Ron was born on 12-09-1992 and he was admitted to school 15-12-1999.\n",
    "\n",
    "Note- Store this sample text in the file and then extract dates.\n"
   ]
  },
  {
   "cell_type": "code",
   "execution_count": null,
   "id": "cf928582",
   "metadata": {},
   "outputs": [],
   "source": []
  },
  {
   "cell_type": "markdown",
   "id": "3a325702",
   "metadata": {},
   "source": [
    "Question 30- Create a function inpython to remove all words from a string of length between 2 and 4.\n",
    "The use of the re.compile() method is mandatory.\n",
    "\n",
    "Sample Text:\"The following example creates an ArrayList with a capacity of 50 elements. 4 elements are then added to the ArrayList and the ArrayList is trimmed accordingly.\"\n",
    "\n",
    "Expected Output:following example creates ArrayList a capacity elements. 4 elements added ArrayList ArrayList trimmed accordingly.\n"
   ]
  },
  {
   "cell_type": "code",
   "execution_count": 29,
   "id": "6ea7be37",
   "metadata": {},
   "outputs": [
    {
     "name": "stdout",
     "output_type": "stream",
     "text": [
      " following example creates  ArrayList  a capacity   elements. 4 elements   added   ArrayList   ArrayList  trimmed accordingly.\n"
     ]
    }
   ],
   "source": [
    "import re\n",
    "\n",
    "def remove_words(string):\n",
    "    \n",
    "    #string to remove words from a string by length\n",
    "    string_pattern = r'\\b\\w{2,4}\\b'\n",
    "    \n",
    "    #compile string to re.pattern object\n",
    "    pattern = re.compile(string_pattern)\n",
    "    \n",
    "    new_string = re.sub(pattern, '', string)\n",
    "    return new_string\n",
    "\n",
    "sample_text = \"The following example creates an ArrayList with a capacity of 50 elements. 4 elements are then added to the ArrayList and the ArrayList is trimmed accordingly.\"\n",
    "\n",
    "result = remove_words(sample_text)\n",
    "print(result)"
   ]
  }
 ],
 "metadata": {
  "kernelspec": {
   "display_name": "Python 3 (ipykernel)",
   "language": "python",
   "name": "python3"
  },
  "language_info": {
   "codemirror_mode": {
    "name": "ipython",
    "version": 3
   },
   "file_extension": ".py",
   "mimetype": "text/x-python",
   "name": "python",
   "nbconvert_exporter": "python",
   "pygments_lexer": "ipython3",
   "version": "3.10.9"
  }
 },
 "nbformat": 4,
 "nbformat_minor": 5
}
